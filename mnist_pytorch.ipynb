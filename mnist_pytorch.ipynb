{
  "nbformat": 4,
  "nbformat_minor": 0,
  "metadata": {
    "colab": {
      "name": "mnist_pytorch.ipynb",
      "provenance": [],
      "collapsed_sections": []
    },
    "kernelspec": {
      "name": "python3",
      "display_name": "Python 3"
    },
    "language_info": {
      "name": "python"
    },
    "accelerator": "GPU",
    "gpuClass": "standard"
  },
  "cells": [
    {
      "cell_type": "code",
      "execution_count": 1,
      "metadata": {
        "id": "6zuYU75XaWd8"
      },
      "outputs": [],
      "source": [
        "import numpy as np \n",
        "import torch\n",
        "torch.manual_seed(16)\n",
        "from torch import nn, optim\n",
        "import torchvision\n",
        "from torchvision import datasets, transforms"
      ]
    },
    {
      "cell_type": "code",
      "source": [
        "tf = transforms.Compose([transforms.ToTensor(), transforms.Normalize((0.5,), (0.5,)),])"
      ],
      "metadata": {
        "id": "OivWHENqajlB"
      },
      "execution_count": 2,
      "outputs": []
    },
    {
      "cell_type": "code",
      "source": [
        "training_set = datasets.MNIST('/root', download=True, train=True, transform = tf)\n",
        "test_set = datasets.MNIST('/root', download=True, train=False, transform=tf)\n",
        "\n",
        "train_load = torch.utils.data.DataLoader(training_set,batch_size = 64, shuffle = True)\n",
        "test_load = torch.utils.data.DataLoader(test_set,batch_size = 64, shuffle = True)"
      ],
      "metadata": {
        "id": "pDTAXHhEnOIO"
      },
      "execution_count": 3,
      "outputs": []
    },
    {
      "cell_type": "code",
      "source": [
        "#validate image size 28x28\n",
        "image,label = iter(train_load).next()"
      ],
      "metadata": {
        "id": "gEAtlkNqna0e"
      },
      "execution_count": 4,
      "outputs": []
    },
    {
      "cell_type": "code",
      "source": [
        "#without transform of mean and variance\n",
        "temp_data = datasets.MNIST('/root',download = True, train=True,transform = transforms.Compose\n",
        "                           ([transforms.ToTensor()]))\n",
        "temp_load = torch.utils.data.DataLoader(temp_data,batch_size = 64)\n",
        "ti, tl = iter(temp_load).next()"
      ],
      "metadata": {
        "id": "wcLqvxqH514b"
      },
      "execution_count": 5,
      "outputs": []
    },
    {
      "cell_type": "markdown",
      "source": [
        "**Neural Network Architechture:**\n",
        "\n",
        "Input: 28x28=784 \\\\\n",
        "hidden layer 1: 128 (ReLu) \\\\\n",
        "hidden layer 2: 64 (ReLu) \\\\\n",
        "output layer: 10 (softmax)\n",
        "\n"
      ],
      "metadata": {
        "id": "U3MFJYp-6-nj"
      }
    },
    {
      "cell_type": "code",
      "source": [
        "model = nn.Sequential(nn.Linear(784, 128), nn.ReLU(),\n",
        "                      nn.Linear(128,64),nn.ReLU(),\n",
        "                      nn.Linear(64, 10), nn.LogSoftmax(dim=1))\n",
        "loss_type = nn.NLLLoss()"
      ],
      "metadata": {
        "id": "fsejYnwM7U9G"
      },
      "execution_count": 6,
      "outputs": []
    },
    {
      "cell_type": "code",
      "source": [
        "opt = optim.SGD(model.parameters(),lr = 0.004, momentum = 0.96)\n",
        "n_epochs = 16\n",
        "for i in range(n_epochs):\n",
        "    temp_loss = 0\n",
        "    for images, labels in train_load:\n",
        "        fl = nn.Flatten()\n",
        "        images = fl(images)\n",
        "        #images = images.view(images.shape[0],-1)\n",
        "        opt.zero_grad()\n",
        "        output = model(images)\n",
        "        loss = loss_type(output,labels)\n",
        "        loss.backward()\n",
        "        opt.step()\n",
        "        temp_loss += loss.item()\n",
        "    else:\n",
        "        print(\"epoch {} - training loss {}\".format(i,temp_loss/len(train_load)))\n"
      ],
      "metadata": {
        "colab": {
          "base_uri": "https://localhost:8080/"
        },
        "id": "4ItNJBJF8w2I",
        "outputId": "0cd52a6c-d6c9-484c-c8d7-f9762f9d4bb1"
      },
      "execution_count": 7,
      "outputs": [
        {
          "output_type": "stream",
          "name": "stdout",
          "text": [
            "epoch 0 - training loss 0.469388761889261\n",
            "epoch 1 - training loss 0.18148292344746622\n",
            "epoch 2 - training loss 0.12898942023547474\n",
            "epoch 3 - training loss 0.10596180251185923\n",
            "epoch 4 - training loss 0.08647015409321705\n",
            "epoch 5 - training loss 0.0744619833869931\n",
            "epoch 6 - training loss 0.06504754512912102\n",
            "epoch 7 - training loss 0.05885382726200735\n",
            "epoch 8 - training loss 0.05447160910024667\n",
            "epoch 9 - training loss 0.04682027330055638\n",
            "epoch 10 - training loss 0.03993788021841277\n",
            "epoch 11 - training loss 0.0394517939724177\n",
            "epoch 12 - training loss 0.03920398659882263\n",
            "epoch 13 - training loss 0.031417427019114104\n",
            "epoch 14 - training loss 0.028743071698095663\n",
            "epoch 15 - training loss 0.027050572875503654\n"
          ]
        }
      ]
    },
    {
      "cell_type": "code",
      "source": [
        "correct, all = 0,0\n",
        "for image, label in test_load:\n",
        "    for i in range(len(label)):\n",
        "        temp_image = image[i].view(1,784) \n",
        "        assert list(temp_image.shape) == [1,784] #using Flatten() gives Tensor.Size([16,784])\n",
        "        with torch.no_grad():\n",
        "            log_prob = model(temp_image)\n",
        "        prob = torch.exp(log_prob)\n",
        "        class_out = list(prob.numpy()[0])\n",
        "        pred = class_out.index(max(class_out))\n",
        "        true = label.numpy()[i]\n",
        "        if true == pred: correct += 1\n",
        "        all += 1\n",
        "\n",
        "print('model accuracy = ', (correct/all))\n"
      ],
      "metadata": {
        "colab": {
          "base_uri": "https://localhost:8080/"
        },
        "id": "97LCbUK1Bd4z",
        "outputId": "5ef34195-5d0f-4a80-e223-325b043f851d"
      },
      "execution_count": 8,
      "outputs": [
        {
          "output_type": "stream",
          "name": "stdout",
          "text": [
            "model accuracy =  0.9786\n"
          ]
        }
      ]
    }
  ]
}