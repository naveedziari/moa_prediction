{
  "nbformat": 4,
  "nbformat_minor": 0,
  "metadata": {
    "colab": {
      "name": "moa_pytorch.ipynb",
      "provenance": [],
      "collapsed_sections": []
    },
    "kernelspec": {
      "name": "python3",
      "display_name": "Python 3"
    },
    "language_info": {
      "name": "python"
    }
  },
  "cells": [
    {
      "cell_type": "code",
      "execution_count": null,
      "metadata": {
        "colab": {
          "base_uri": "https://localhost:8080/"
        },
        "id": "aFTEflcM9HNE",
        "outputId": "fcf6ef52-fdb3-4f2d-bace-ae31f2ec64dc"
      },
      "outputs": [
        {
          "output_type": "stream",
          "name": "stdout",
          "text": [
            "Looking in indexes: https://pypi.org/simple, https://us-python.pkg.dev/colab-wheels/public/simple/\n",
            "Collecting iterative-stratification\n",
            "  Downloading iterative_stratification-0.1.7-py3-none-any.whl (8.5 kB)\n",
            "Requirement already satisfied: scikit-learn in /usr/local/lib/python3.7/dist-packages (from iterative-stratification) (1.0.2)\n",
            "Requirement already satisfied: scipy in /usr/local/lib/python3.7/dist-packages (from iterative-stratification) (1.4.1)\n",
            "Requirement already satisfied: numpy in /usr/local/lib/python3.7/dist-packages (from iterative-stratification) (1.21.6)\n",
            "Requirement already satisfied: threadpoolctl>=2.0.0 in /usr/local/lib/python3.7/dist-packages (from scikit-learn->iterative-stratification) (3.1.0)\n",
            "Requirement already satisfied: joblib>=0.11 in /usr/local/lib/python3.7/dist-packages (from scikit-learn->iterative-stratification) (1.1.0)\n",
            "Installing collected packages: iterative-stratification\n",
            "Successfully installed iterative-stratification-0.1.7\n"
          ]
        }
      ],
      "source": [
        "import numpy as np\n",
        "import pandas as pd\n",
        "\n",
        "from sklearn.model_selection import KFold\n",
        "from sklearn.metrics import log_loss\n",
        "!pip install iterative-stratification\n",
        "\n",
        "import torch\n",
        "import torch.nn as nn\n",
        "import torch.optim as optim\n",
        "import torch.nn.functional as F\n",
        "from torch.utils.data import Dataset, DataLoader"
      ]
    },
    {
      "cell_type": "code",
      "source": [
        "train_df = pd.read_csv('train_features.csv')\n",
        "test_df = pd.read_csv('test_features.csv')\n",
        "drug_df = pd.read_csv('train_drug.csv')\n",
        "target_df = pd.read_csv('train_targets_scored.csv')"
      ],
      "metadata": {
        "id": "BAxdvMvR9Udy"
      },
      "execution_count": null,
      "outputs": []
    },
    {
      "cell_type": "code",
      "source": [
        "feature_df = pd.merge(train_df,drug_df, how = 'outer', on = 'sig_id')\n",
        "feature_df.drop('drug_id',axis=1,inplace=True)\n",
        "\n",
        "test_id = test_df['sig_id']\n",
        "test_df.drop('sig_id',axis=1,inplace=True)\n"
      ],
      "metadata": {
        "id": "ENPo7iwD-JSb"
      },
      "execution_count": null,
      "outputs": []
    },
    {
      "cell_type": "code",
      "source": [
        "def process(df):\n",
        "    df['cp_type']=df['cp_type'].map({'trt_cp':0,'ctl_vehicle':1})\n",
        "    df['cp_dose']=df['cp_dose'].map({'D1':0,'D2':1})\n",
        "    df['cp_time']=df['cp_time'].map({24:0,48:1,72:2})\n",
        "    return df\n",
        "\n",
        "feature_df = process(feature_df)\n",
        "test_df = process(test_df)"
      ],
      "metadata": {
        "id": "iLHnTyso-fsm"
      },
      "execution_count": null,
      "outputs": []
    },
    {
      "cell_type": "code",
      "source": [
        "class MOA(nn.Module):\n",
        "    def __init__(self):\n",
        "        super().__init__()\n",
        "        self.fc1 = nn.Linear(875,200)\n",
        "        #self.dropout1 = nn.Dropout(0.2)\n",
        "        self.fc2 = nn.Linear(200, 150)\n",
        "        self.fc3 = nn.Linear(150,100)\n",
        "        self.fc4 = nn.Linear(100,207)\n",
        "    def forward(self, x):\n",
        "        x = self.fc1(x)\n",
        "        #x = self.dropout1(x)\n",
        "        x = F.relu(x)     \n",
        "        x = self.fc2(x)\n",
        "        x = F.relu(x)\n",
        "        x = F.relu(self.fc3(x))\n",
        "        x = self.fc4(x)\n",
        "        return F.sigmoid(x)"
      ],
      "metadata": {
        "id": "SQAMQhAnABpv"
      },
      "execution_count": null,
      "outputs": []
    },
    {
      "cell_type": "code",
      "source": [
        "model=MOA()\n",
        "targets=[col for col in target_df.columns]\n",
        "loss_fn = nn.BCEWithLogitsLoss()"
      ],
      "metadata": {
        "id": "aGeZ-KnvAF7s"
      },
      "execution_count": null,
      "outputs": []
    },
    {
      "cell_type": "code",
      "source": [
        "opt = torch.optim.SGD(model.parameters(), lr=0.001)"
      ],
      "metadata": {
        "id": "X2IT3CN4ANEt"
      },
      "execution_count": null,
      "outputs": []
    },
    {
      "cell_type": "code",
      "source": [
        "test_features_nump=test_df.to_numpy()\n",
        "x_test_tensors=torch.Tensor(test_features_nump)\n",
        "pred=model(x_test_tensors)"
      ],
      "metadata": {
        "colab": {
          "base_uri": "https://localhost:8080/"
        },
        "id": "ViY5pwqoAP7T",
        "outputId": "f5db0f9e-6c49-43b4-f261-913024810752"
      },
      "execution_count": null,
      "outputs": [
        {
          "output_type": "stream",
          "name": "stderr",
          "text": [
            "/usr/local/lib/python3.7/dist-packages/torch/nn/functional.py:1944: UserWarning: nn.functional.sigmoid is deprecated. Use torch.sigmoid instead.\n",
            "  warnings.warn(\"nn.functional.sigmoid is deprecated. Use torch.sigmoid instead.\")\n"
          ]
        }
      ]
    },
    {
      "cell_type": "code",
      "source": [
        "pred\n",
        "pred_nump=pred.detach().numpy()\n",
        "pred_df=pd.DataFrame(pred_nump)"
      ],
      "metadata": {
        "id": "iOcE3AxDAgk7"
      },
      "execution_count": null,
      "outputs": []
    }
  ]
}