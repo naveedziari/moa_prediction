{
  "nbformat": 4,
  "nbformat_minor": 0,
  "metadata": {
    "colab": {
      "name": "pca_plot.ipynb",
      "provenance": [],
      "collapsed_sections": []
    },
    "kernelspec": {
      "name": "python3",
      "display_name": "Python 3"
    },
    "language_info": {
      "name": "python"
    }
  },
  "cells": [
    {
      "cell_type": "code",
      "execution_count": 2,
      "metadata": {
        "id": "lxR0PocVpdnF"
      },
      "outputs": [],
      "source": [
        "import numpy as np\n",
        "import pandas as pd\n",
        "import matplotlib.pyplot as plt\n",
        "import seaborn as sns"
      ]
    },
    {
      "cell_type": "code",
      "source": [
        "train_df = pd.read_csv('train_features.csv')\n",
        "test_df = pd.read_csv('test_features.csv')\n",
        "\n",
        "train_df['cp_type'].replace(['ctl_vehicle', 'trt_cp'], [0,1], inplace=True)\n",
        "test_df['cp_type'].replace(['ctl_vehicle', 'trt_cp'], [0,1], inplace=True)\n",
        "\n",
        "train_df['cp_dose'].replace(['D1','D2'],[0,1],inplace = True)\n",
        "test_df['cp_dose'].replace(['D1','D2'],[0,1],inplace = True)"
      ],
      "metadata": {
        "id": "PIamN461puVj"
      },
      "execution_count": 3,
      "outputs": []
    },
    {
      "cell_type": "code",
      "source": [
        "#can write function to remove Moa/subjects with very low signal"
      ],
      "metadata": {
        "id": "KkGWCvLa3zn8"
      },
      "execution_count": 4,
      "outputs": []
    },
    {
      "cell_type": "code",
      "source": [
        "from sklearn.decomposition import PCA\n",
        "\n",
        "n_dim = 2\n",
        "\n",
        "pca = PCA(n_components = n_dim)\n",
        "pca_array = np.array(train_df.loc[:, train_df.columns!='sig_id'])\n",
        "principal_components = pca.fit_transform(pca_array)"
      ],
      "metadata": {
        "id": "4ijHVyQo32LK"
      },
      "execution_count": 5,
      "outputs": []
    },
    {
      "cell_type": "code",
      "source": [
        "pca.explained_variance_ratio_"
      ],
      "metadata": {
        "colab": {
          "base_uri": "https://localhost:8080/"
        },
        "id": "qGduq_f54rHn",
        "outputId": "ea2a22ec-3488-4944-fb08-f0c8ba9f031b"
      },
      "execution_count": 6,
      "outputs": [
        {
          "output_type": "execute_result",
          "data": {
            "text/plain": [
              "array([0.3361266 , 0.19941886])"
            ]
          },
          "metadata": {},
          "execution_count": 6
        }
      ]
    },
    {
      "cell_type": "code",
      "source": [
        "pca_df = pd.DataFrame(data = principal_components, columns = ['PC'+str(i+1) for i in range(n_dim)])"
      ],
      "metadata": {
        "id": "Z3-nExucap6J"
      },
      "execution_count": 7,
      "outputs": []
    },
    {
      "cell_type": "code",
      "source": [
        "#extract targets to merge with pca_df\n",
        "\n",
        "target_df = pd.read_csv('train_targets_scored.csv')\n",
        "target_df['sum'] = target_df.sum(axis=1) #add column to denote how many MoAs can each subject have\n",
        "np.sort(target_df['sum'])"
      ],
      "metadata": {
        "colab": {
          "base_uri": "https://localhost:8080/"
        },
        "id": "Ifr01iS_cjaJ",
        "outputId": "5c746607-6b4e-4788-813e-e39dbaa21923"
      },
      "execution_count": 14,
      "outputs": [
        {
          "output_type": "stream",
          "name": "stderr",
          "text": [
            "/usr/local/lib/python3.7/dist-packages/ipykernel_launcher.py:5: FutureWarning: Dropping of nuisance columns in DataFrame reductions (with 'numeric_only=None') is deprecated; in a future version this will raise TypeError.  Select only valid columns before calling the reduction.\n",
            "  \"\"\"\n"
          ]
        }
      ]
    },
    {
      "cell_type": "code",
      "source": [
        "plot = plt.scatter(principal_components[:,0], principal_components[:,1])\n",
        "plt.grid()\n",
        "plt.xlabel('Principal Component 1')\n",
        "plt.ylabel('Principal Component 2')\n",
        "plt.show()\n",
        "\n",
        "#does this suggest 3 distinct classes?"
      ],
      "metadata": {
        "colab": {
          "base_uri": "https://localhost:8080/",
          "height": 279
        },
        "id": "tiSKsglzdoAL",
        "outputId": "2b8f6c98-2afa-4c29-8c88-c391c5aa32b4"
      },
      "execution_count": 12,
      "outputs": [
        {
          "output_type": "display_data",
          "data": {
            "text/plain": [
              "<Figure size 432x288 with 1 Axes>"
            ],
            "image/png": "[encoded data removed]"
          },
          "metadata": {
            "needs_background": "light"
          }
        }
      ]
    }
  ]
}