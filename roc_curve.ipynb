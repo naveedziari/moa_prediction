{
  "nbformat": 4,
  "nbformat_minor": 0,
  "metadata": {
    "colab": {
      "name": "roc_curve.ipynb",
      "provenance": [],
      "collapsed_sections": []
    },
    "kernelspec": {
      "name": "python3",
      "display_name": "Python 3"
    },
    "language_info": {
      "name": "python"
    }
  },
  "cells": [
    {
      "cell_type": "code",
      "execution_count": null,
      "metadata": {
        "id": "rE5gZjWH3pAh"
      },
      "outputs": [],
      "source": [
        "import numpy as np\n",
        "import pandas as pd\n",
        "\n",
        "\n",
        "from sklearn.metrics import roc_curve, roc_auc_score\n",
        "import matplotlib.pyplot as plt\n",
        "import seaborn as sns "
      ]
    },
    {
      "cell_type": "code",
      "source": [
        "target_df = pd.read_csv('train_targets_scored.csv')"
      ],
      "metadata": {
        "id": "pvnAUftH-Syq"
      },
      "execution_count": null,
      "outputs": []
    },
    {
      "cell_type": "code",
      "source": [
        "y = np.load('preds.npy')\n",
        "preds = np.load('y.npy')\n"
      ],
      "metadata": {
        "id": "jkL9tDA2-V6l"
      },
      "execution_count": null,
      "outputs": []
    },
    {
      "cell_type": "code",
      "source": [
        "fpr_list = []\n",
        "tpr_list = []\n",
        "score_array = []\n",
        "for moa_index in range(len(list(target_df.columns[1:]))):\n",
        "    try:\n",
        "        score = roc_auc_score(preds[:,moa_index],y[:,moa_index])\n",
        "        score_array.append(score)\n",
        "    except:\n",
        "        continue\n"
      ],
      "metadata": {
        "id": "kNchP80qdqut"
      },
      "execution_count": null,
      "outputs": []
    },
    {
      "cell_type": "code",
      "source": [
        "np.mean(score_array)"
      ],
      "metadata": {
        "colab": {
          "base_uri": "https://localhost:8080/"
        },
        "id": "n-7MWA2jiH3o",
        "outputId": "f2937f10-567a-4a83-dcbe-8d7c8339abb7"
      },
      "execution_count": null,
      "outputs": [
        {
          "output_type": "execute_result",
          "data": {
            "text/plain": [
              "0.6792437831019166"
            ]
          },
          "metadata": {},
          "execution_count": 17
        }
      ]
    },
    {
      "cell_type": "code",
      "source": [
        "print(np.mean(score_array))"
      ],
      "metadata": {
        "colab": {
          "base_uri": "https://localhost:8080/"
        },
        "id": "Ws9QJlcDSKdR",
        "outputId": "e8ada21d-55dd-4d43-9393-fcc8958dbae2"
      },
      "execution_count": null,
      "outputs": [
        {
          "output_type": "stream",
          "name": "stdout",
          "text": [
            "0.626807692055578\n"
          ]
        }
      ]
    }
  ]
}