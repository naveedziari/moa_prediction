{
  "nbformat": 4,
  "nbformat_minor": 0,
  "metadata": {
    "colab": {
      "name": "data_analysis.ipynb",
      "provenance": [],
      "collapsed_sections": []
    },
    "kernelspec": {
      "name": "python3",
      "display_name": "Python 3"
    },
    "language_info": {
      "name": "python"
    }
  },
  "cells": [
    {
      "cell_type": "code",
      "source": [
        "import numpy as np\n",
        "import pandas as pd\n",
        "import random\n",
        "import matplotlib.pyplot as plt\n",
        "import seaborn as sns"
      ],
      "metadata": {
        "id": "15jahX_FPacc"
      },
      "execution_count": 7,
      "outputs": []
    },
    {
      "cell_type": "code",
      "source": [
        "\n",
        "#num_drugs = ~3200\n",
        "#num_samples = ~24000\n",
        "#num_moa = 206\n",
        "\n",
        "#read features dataset\n",
        "train_df = pd.read_csv('train_features.csv')\n",
        "test_df = pd.read_csv('test_features.csv')\n",
        "\n",
        "\n",
        "print('number of samples: {}'.format(len(train_df)))\n",
        "#read targets\n"
      ],
      "metadata": {
        "id": "fGWIZyJiPdTf",
        "colab": {
          "base_uri": "https://localhost:8080/"
        },
        "outputId": "56aeba93-b070-4f6f-f885-1b64189e975f"
      },
      "execution_count": 27,
      "outputs": [
        {
          "output_type": "stream",
          "name": "stdout",
          "text": [
            "number of samples: 23814\n"
          ]
        }
      ]
    },
    {
      "cell_type": "code",
      "source": [
        "#transform qualitative datapoints\n",
        "#cp_type: 0 = control, 1 = treatment\n",
        "#cp_dose: 0 = D1, 1 = D2\n",
        "#cp_time: no need to transform\n",
        "\n",
        "train_df['cp_type'].replace(['ctl_vehicle', 'trt_cp'], [0,1], inplace=True)\n",
        "test_df['cp_type'].replace(['ctl_vehicle', 'trt_cp'], [0,1], inplace=True)\n",
        "\n",
        "train_df['cp_dose'].replace(['D1','D2'],[0,1],inplace = True)\n",
        "test_df['cp_dose'].replace(['D1','D2'],[0,1],inplace = True)"
      ],
      "metadata": {
        "id": "vliBb78xztA3"
      },
      "execution_count": 10,
      "outputs": []
    },
    {
      "cell_type": "code",
      "source": [
        "#create dataframes of gene exp and viability features\n",
        "\n",
        "gene_exp_columns = [i for i in train_df.columns if 'g-' in i]\n",
        "gene_exp_df = train_df[gene_exp_columns]\n",
        "\n",
        "cell_viability_columns = [j for j in train_df.columns if 'c-' in j]\n",
        "cell_viability_df = train_df[cell_viability_columns]\n",
        "\n",
        "#index treatment vs control sig_ids\n",
        "\n"
      ],
      "metadata": {
        "id": "D-VuESPMRLmz"
      },
      "execution_count": 11,
      "outputs": []
    },
    {
      "cell_type": "code",
      "source": [
        "target_df = pd.read_csv('train_targets_scored.csv')\n",
        "print('number of MoA: {}'.format(len(target_df.columns)-1))\n",
        "\n",
        "moa_list = list(target_df.columns[1:]) #drop sig_id\n",
        "\n",
        "#make sure all treatment sig_ids have one MoA and all control sig_ids have none\n",
        "ctrl_indices = train_df.index[train_df['cp_type'] == 0].tolist()\n",
        "trt_indices = train_df.index[train_df['cp_type'] == 1].tolist()\n",
        "\n",
        "abnormal_ctrl_sig_id = []\n",
        "for i in ctrl_indices:\n",
        "    row_sum = np.sum(target_df.iloc[i].values[1:])\n",
        "    if row_sum > 0:\n",
        "        abnormal_ctrl_sig_id.append(i,row_sum)\n",
        "\n",
        "abnormal_trt_sig_id = []\n",
        "for j in trt_indices:\n",
        "    row_sum = np.sum(target_df.iloc[j].values[1:])\n",
        "    if row_sum != 1:\n",
        "        abnormal_trt_sig_id.append((j,row_sum))\n",
        "\n",
        "#there are multiple treatment subjects with either zero or multiple mechanism of actions, need to see about what drugs they take to be ommitted. \n"
      ],
      "metadata": {
        "id": "z1aQ4P06jyyx",
        "colab": {
          "base_uri": "https://localhost:8080/"
        },
        "outputId": "898cf336-178f-4920-edeb-0ad3aa0e13e2"
      },
      "execution_count": 29,
      "outputs": [
        {
          "output_type": "stream",
          "name": "stdout",
          "text": [
            "number of MoA: 206\n"
          ]
        }
      ]
    },
    {
      "cell_type": "code",
      "source": [
        "#test to see how many drugs are in each mechanism of action\n",
        "#'          ' how many subjects per drug\n",
        "\n",
        "drug_df = pd.read_csv('train_drug.csv')\n",
        "\n",
        "num_drugs = len(np.unique(drug_df['drug_id']))\n",
        "print('number of drugs: {}'.format(num_drugs))\n",
        "drug_list = set(drug_df['drug_id'])\n",
        "#find number of subjects per drug\n",
        "\n",
        "drug_dict = {}\n",
        "subj_dist = []\n",
        "for drug in drug_list:\n",
        "    num_subjects = len(drug_df.index[drug_df['drug_id'] == drug].tolist())\n",
        "    subj_dist.append(num_subjects)\n",
        "    drug_dict.update({drug: num_subjects})\n",
        "\n",
        "print('number of subjects per given drug: ')\n",
        "print(np.sort(list(drug_dict.values()))[:24:-1]) #can see some drugs are given to many subjects "
      ],
      "metadata": {
        "id": "SSa3sekuyKS-",
        "colab": {
          "base_uri": "https://localhost:8080/"
        },
        "outputId": "5809f6b3-7f0c-442b-bb94-b5d03711fb55"
      },
      "execution_count": 33,
      "outputs": [
        {
          "output_type": "stream",
          "name": "stdout",
          "text": [
            "number of drugs: 3289\n",
            "number of subjects per given drug: \n",
            "[1866  718  246 ...    1    1    1]\n"
          ]
        }
      ]
    },
    {
      "cell_type": "code",
      "source": [
        "#number of subjects per mechanism of action\n",
        "\n",
        "moa_dict = {}\n",
        "for moa in list(target_df.columns[1:]): #exclude sig_id\n",
        "    num_subj = target_df[target_df[moa] == 1].shape[0]\n",
        "    moa_dict.update({moa: num_subj})"
      ],
      "metadata": {
        "id": "_JYeaE6JhyXc"
      },
      "execution_count": 38,
      "outputs": []
    },
    {
      "cell_type": "code",
      "source": [
        "sorted(((v,k) for k,v in moa_dict.items()), reverse=False)"
      ],
      "metadata": {
        "colab": {
          "base_uri": "https://localhost:8080/"
        },
        "id": "CmWIdG0hi3cJ",
        "outputId": "a261084f-b35d-43f2-936a-115acaf41177"
      },
      "execution_count": 45,
      "outputs": [
        {
          "output_type": "execute_result",
          "data": {
            "text/plain": [
              "[(1, 'atp-sensitive_potassium_channel_antagonist'),\n",
              " (1, 'erbb2_inhibitor'),\n",
              " (6, 'antiarrhythmic'),\n",
              " (6, 'atm_kinase_inhibitor'),\n",
              " (6, 'autotaxin_inhibitor'),\n",
              " (6, 'calcineurin_inhibitor'),\n",
              " (6, 'coagulation_factor_inhibitor'),\n",
              " (6, 'diuretic'),\n",
              " (6, 'elastase_inhibitor'),\n",
              " (6, 'laxative'),\n",
              " (6, 'leukotriene_inhibitor'),\n",
              " (6, 'lxr_agonist'),\n",
              " (6, 'nicotinic_receptor_agonist'),\n",
              " (6, 'protein_phosphatase_inhibitor'),\n",
              " (6, 'retinoid_receptor_antagonist'),\n",
              " (6, 'steroid'),\n",
              " (6, 'tropomyosin_receptor_kinase_inhibitor'),\n",
              " (6, 'ubiquitin_specific_protease_inhibitor'),\n",
              " (7, 'aldehyde_dehydrogenase_inhibitor'),\n",
              " (7, 'bacterial_membrane_integrity_inhibitor'),\n",
              " (7, 'norepinephrine_reuptake_inhibitor'),\n",
              " (7, 'tlr_antagonist'),\n",
              " (12, 'adenylyl_cyclase_activator'),\n",
              " (12, 'ampk_activator'),\n",
              " (12, 'analgesic'),\n",
              " (12, 'anticonvulsant'),\n",
              " (12, 'antihistamine'),\n",
              " (12, 'atp_synthase_inhibitor'),\n",
              " (12, 'catechol_o_methyltransferase_inhibitor'),\n",
              " (12, 'lipase_inhibitor'),\n",
              " (12, 'monoacylglycerol_lipase_inhibitor'),\n",
              " (12, 'nitric_oxide_production_inhibitor'),\n",
              " (12, 'ras_gtpase_inhibitor'),\n",
              " (13, 'antifungal'),\n",
              " (13, 'glutamate_inhibitor'),\n",
              " (17, '5-alpha_reductase_inhibitor'),\n",
              " (18, '11-beta-hsd1_inhibitor'),\n",
              " (18, 'antimalarial'),\n",
              " (18, 'caspase_activator'),\n",
              " (18, 'cck_receptor_antagonist'),\n",
              " (18, 'farnesyltransferase_inhibitor'),\n",
              " (18, 'focal_adhesion_kinase_inhibitor'),\n",
              " (18, 'free_radical_scavenger'),\n",
              " (18, 'gonadotropin_receptor_agonist'),\n",
              " (18, 'monopolar_spindle_1_kinase_inhibitor'),\n",
              " (18, 'nrf2_activator'),\n",
              " (18, 'pdk_inhibitor'),\n",
              " (18, 'progesterone_receptor_antagonist'),\n",
              " (18, 'transient_receptor_potential_channel_antagonist'),\n",
              " (19, 'atr_kinase_inhibitor'),\n",
              " (19, 'protein_tyrosine_kinase_inhibitor'),\n",
              " (19, 'syk_inhibitor'),\n",
              " (19, 'thrombin_inhibitor'),\n",
              " (23, 'antiviral'),\n",
              " (23, 'fungal_squalene_epoxidase_inhibitor'),\n",
              " (24, 'acat_inhibitor'),\n",
              " (24, 'beta_amyloid_inhibitor'),\n",
              " (24, 'chk_inhibitor'),\n",
              " (24, 'histone_lysine_demethylase_inhibitor'),\n",
              " (24, 'p-glycoprotein_inhibitor'),\n",
              " (25, 'dipeptidyl_peptidase_inhibitor'),\n",
              " (25, 'fatty_acid_receptor_agonist'),\n",
              " (25, 'mineralocorticoid_receptor_antagonist'),\n",
              " (25, 'phospholipase_inhibitor'),\n",
              " (25, 'rna_polymerase_inhibitor'),\n",
              " (25, 'smoothened_receptor_antagonist'),\n",
              " (25, 'sphingosine_receptor_agonist'),\n",
              " (25, 'trpv_agonist'),\n",
              " (26, 'nitric_oxide_donor'),\n",
              " (26, 'nitric_oxide_synthase_inhibitor'),\n",
              " (26, 'vitamin_b'),\n",
              " (29, 'btk_inhibitor'),\n",
              " (30, 'ikk_inhibitor'),\n",
              " (30, 'insulin_secretagogue'),\n",
              " (30, 'ppar_receptor_antagonist'),\n",
              " (30, 'tgf-beta_receptor_inhibitor'),\n",
              " (30, 'tlr_agonist'),\n",
              " (30, 'wnt_inhibitor'),\n",
              " (31, 'bcl_inhibitor'),\n",
              " (31, 'imidazoline_receptor_agonist'),\n",
              " (31, 'mdm_inhibitor'),\n",
              " (31, 'pkc_inhibitor'),\n",
              " (32, 'histone_lysine_methyltransferase_inhibitor'),\n",
              " (35, 'rho_associated_kinase_inhibitor'),\n",
              " (36, 'angiogenesis_inhibitor'),\n",
              " (36, 'antiprotozoal'),\n",
              " (36, 'bacterial_antifolate'),\n",
              " (36, 'carbonic_anhydrase_inhibitor'),\n",
              " (36, 'casein_kinase_inhibitor'),\n",
              " (36, 'corticosteroid_agonist'),\n",
              " (36, 'dihydrofolate_reductase_inhibitor'),\n",
              " (36, 'faah_inhibitor'),\n",
              " (36, 'prostaglandin_inhibitor'),\n",
              " (36, 'sigma_receptor_agonist'),\n",
              " (36, 'sigma_receptor_antagonist'),\n",
              " (36, 'tnf_inhibitor'),\n",
              " (37, 'angiotensin_receptor_antagonist'),\n",
              " (37, 'igf-1_inhibitor'),\n",
              " (37, 'neuropeptide_receptor_antagonist'),\n",
              " (37, 'orexin_receptor_antagonist'),\n",
              " (37, 'ribonucleoside_reductase_inhibitor'),\n",
              " (37, 'thymidylate_synthase_inhibitor'),\n",
              " (38, 'bcr-abl_inhibitor'),\n",
              " (39, 'vitamin_d_receptor_agonist'),\n",
              " (42, 'alk_inhibitor'),\n",
              " (42, 'cannabinoid_receptor_agonist'),\n",
              " (42, 'chloride_channel_blocker'),\n",
              " (42, 'integrin_inhibitor'),\n",
              " (43, 'antibiotic'),\n",
              " (44, 'serotonin_reuptake_inhibitor'),\n",
              " (47, 'aromatase_inhibitor'),\n",
              " (48, 'androgen_receptor_agonist'),\n",
              " (48, 'cholesterol_inhibitor'),\n",
              " (48, 'dna_alkylating_agent'),\n",
              " (48, 'estrogen_receptor_antagonist'),\n",
              " (48, 'mucolytic_agent'),\n",
              " (48, 'protein_kinase_inhibitor'),\n",
              " (48, 'trpv_antagonist'),\n",
              " (49, 'apoptosis_stimulant'),\n",
              " (50, 'fgfr_inhibitor'),\n",
              " (51, 'insulin_sensitizer'),\n",
              " (54, 'adenosine_receptor_agonist'),\n",
              " (54, 'chelating_agent'),\n",
              " (54, 'cholinergic_receptor_antagonist'),\n",
              " (55, 'cannabinoid_receptor_antagonist'),\n",
              " (55, 'potassium_channel_activator'),\n",
              " (56, 'gamma_secretase_inhibitor'),\n",
              " (56, 'radiopaque_medium'),\n",
              " (59, 'histamine_receptor_agonist'),\n",
              " (60, 'bacterial_30s_ribosomal_subunit_inhibitor'),\n",
              " (60, 'gsk_inhibitor'),\n",
              " (60, 'tachykinin_antagonist'),\n",
              " (61, 'lipoxygenase_inhibitor'),\n",
              " (61, 'opioid_receptor_agonist'),\n",
              " (61, 'parp_inhibitor'),\n",
              " (62, 'leukotriene_receptor_antagonist'),\n",
              " (62, 'p38_mapk_inhibitor'),\n",
              " (66, 'akt_inhibitor'),\n",
              " (67, 'benzodiazepine_receptor_agonist'),\n",
              " (67, 'retinoid_receptor_agonist'),\n",
              " (68, 'bromodomain_inhibitor'),\n",
              " (71, 'src_inhibitor'),\n",
              " (72, 'hcv_inhibitor'),\n",
              " (72, 'hiv_inhibitor'),\n",
              " (72, 'mek_inhibitor'),\n",
              " (73, 'acetylcholinesterase_inhibitor'),\n",
              " (73, 'anti-inflammatory'),\n",
              " (73, 'antioxidant'),\n",
              " (73, 'immunosuppressant'),\n",
              " (73, 'tyrosine_kinase_inhibitor'),\n",
              " (74, 'glutamate_receptor_agonist'),\n",
              " (74, 'membrane_integrity_inhibitor'),\n",
              " (80, 'anesthetic_-_local'),\n",
              " (80, 'bacterial_50s_ribosomal_subunit_inhibitor'),\n",
              " (84, 'prostanoid_receptor_antagonist'),\n",
              " (85, 'monoamine_oxidase_inhibitor'),\n",
              " (89, 'androgen_receptor_antagonist'),\n",
              " (89, 'bacterial_dna_gyrase_inhibitor'),\n",
              " (92, 'jak_inhibitor'),\n",
              " (93, 'hsp_inhibitor'),\n",
              " (96, 'adenosine_receptor_antagonist'),\n",
              " (96, 'aurora_kinase_inhibitor'),\n",
              " (96, 'opioid_receptor_antagonist'),\n",
              " (97, 'atpase_inhibitor'),\n",
              " (98, 'potassium_channel_antagonist'),\n",
              " (102, 'cc_chemokine_receptor_antagonist'),\n",
              " (103, 'protein_synthesis_inhibitor'),\n",
              " (104, 'cytochrome_p450_inhibitor'),\n",
              " (106, 'gaba_receptor_agonist'),\n",
              " (106, 'hdac_inhibitor'),\n",
              " (115, 'bacterial_dna_inhibitor'),\n",
              " (115, 'ppar_receptor_agonist'),\n",
              " (119, 'progesterone_receptor_agonist'),\n",
              " (121, 'dopamine_receptor_agonist'),\n",
              " (127, 'topoisomerase_inhibitor'),\n",
              " (130, 'mtor_inhibitor'),\n",
              " (151, 'pi3k_inhibitor'),\n",
              " (158, 'estrogen_receptor_agonist'),\n",
              " (165, 'gaba_receptor_antagonist'),\n",
              " (170, 'vegfr_inhibitor'),\n",
              " (190, 'acetylcholine_receptor_agonist'),\n",
              " (192, 'bacterial_cell_wall_synthesis_inhibitor'),\n",
              " (223, 'raf_inhibitor'),\n",
              " (236, 'serotonin_receptor_agonist'),\n",
              " (241, 'histamine_receptor_antagonist'),\n",
              " (264, 'phosphodiesterase_inhibitor'),\n",
              " (266, 'glucocorticoid_receptor_agonist'),\n",
              " (267, 'sodium_channel_inhibitor'),\n",
              " (270, 'adrenergic_receptor_agonist'),\n",
              " (273, 'kit_inhibitor'),\n",
              " (279, 'flt3_inhibitor'),\n",
              " (281, 'calcium_channel_blocker'),\n",
              " (283, 'hmgcr_inhibitor'),\n",
              " (297, 'pdgfr_inhibitor'),\n",
              " (301, 'acetylcholine_receptor_antagonist'),\n",
              " (316, 'tubulin_inhibitor'),\n",
              " (336, 'egfr_inhibitor'),\n",
              " (340, 'cdk_inhibitor'),\n",
              " (360, 'adrenergic_receptor_antagonist'),\n",
              " (367, 'glutamate_receptor_antagonist'),\n",
              " (402, 'dna_inhibitor'),\n",
              " (404, 'serotonin_receptor_antagonist'),\n",
              " (424, 'dopamine_receptor_antagonist'),\n",
              " (435, 'cyclooxygenase_inhibitor'),\n",
              " (726, 'proteasome_inhibitor'),\n",
              " (832, 'nfkb_inhibitor')]"
            ]
          },
          "metadata": {},
          "execution_count": 45
        }
      ]
    }
  ]
}