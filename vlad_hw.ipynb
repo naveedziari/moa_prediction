{
  "nbformat": 4,
  "nbformat_minor": 0,
  "metadata": {
    "colab": {
      "name": "vlad_hw.ipynb",
      "provenance": [],
      "collapsed_sections": []
    },
    "kernelspec": {
      "name": "python3",
      "display_name": "Python 3"
    },
    "language_info": {
      "name": "python"
    }
  },
  "cells": [
    {
      "cell_type": "code",
      "execution_count": null,
      "metadata": {
        "id": "TFCM7SdKfs4U"
      },
      "outputs": [],
      "source": [
        "import numpy as np \n",
        "import pandas as pd \n",
        "import matplotlib.pyplot as plt\n",
        "import seaborn as sns\n",
        "from itertools import combinations\n",
        "from scipy import stats"
      ]
    },
    {
      "cell_type": "code",
      "source": [
        "train_df = pd.read_csv('train_features.csv')\n",
        "drug_df = pd.read_csv('train_drug.csv')"
      ],
      "metadata": {
        "id": "OIv6aV9zfyh-"
      },
      "execution_count": null,
      "outputs": []
    },
    {
      "cell_type": "code",
      "source": [
        "\n",
        "train_df['cp_type'].replace(['ctl_vehicle', 'trt_cp'], [0,1], inplace=True)\n",
        "train_df['cp_dose'].replace(['D1','D2'],[0,1],inplace = True)\n"
      ],
      "metadata": {
        "id": "ov6TniaKhCNr"
      },
      "execution_count": null,
      "outputs": []
    },
    {
      "cell_type": "code",
      "source": [
        "#87d714366\n",
        "#9f80f3f77\n",
        "#8b87a7a83\n",
        "\n",
        "train_df = pd.concat([drug_df['drug_id'], train_df],axis=1)\n"
      ],
      "metadata": {
        "id": "mHkVSh5qf1m7"
      },
      "execution_count": null,
      "outputs": []
    },
    {
      "cell_type": "code",
      "source": [
        "train_df"
      ],
      "metadata": {
        "id": "_Tk8uEGziG2J"
      },
      "execution_count": null,
      "outputs": []
    },
    {
      "cell_type": "code",
      "source": [
        "cell_cols = ['c-' + str(i) for i in range(100)]\n"
      ],
      "metadata": {
        "id": "N7zu91Ohf7Aj"
      },
      "execution_count": null,
      "outputs": []
    },
    {
      "cell_type": "code",
      "source": [
        "temp_df = train_df[(train_df['cp_dose'] == 1) & (train_df['cp_time'] == 48)].reset_index()\n",
        "df1 = temp_df.loc[temp_df['drug_id'] == '87d714366'].reset_index()\n",
        "df2 = temp_df.loc[temp_df['drug_id'] == '9f80f3f77'].reset_index()\n",
        "df3 = temp_df.loc[temp_df['drug_id'] == '8b87a7a83'].reset_index()\n",
        "\n",
        "array1 = df1[cell_cols].to_numpy()\n",
        "array2 = df2[cell_cols].to_numpy()\n",
        "array3 = df3[cell_cols].to_numpy()\n"
      ],
      "metadata": {
        "id": "H0pxcCp6gC7O"
      },
      "execution_count": null,
      "outputs": []
    },
    {
      "cell_type": "code",
      "source": [
        "def correlations(arr):\n",
        "    output = []\n",
        "    pval = []\n",
        "    length = arr.shape[0]\n",
        "    comb = list(combinations(range(length),2))\n",
        "    random_combinations = np.random.choice(range(len(comb)),100)\n",
        "    for i in random_combinations:\n",
        "        index1,index2 = comb[i][0], comb[i][1]\n",
        "        value = stats.spearmanr(arr[index1,:],arr[index2,:])\n",
        "        output.append(value[0])\n",
        "\n",
        "    return np.array(output)\n"
      ],
      "metadata": {
        "id": "Do6S1H1Bi1ED"
      },
      "execution_count": null,
      "outputs": []
    },
    {
      "cell_type": "code",
      "source": [
        "result1 = correlations(array1)\n",
        "result2 = correlations(array2)\n",
        "result3 = correlations(array3)\n",
        "all_results = np.stack([result1,result2,result3],axis=1)"
      ],
      "metadata": {
        "id": "p1MpTldvkI7U"
      },
      "execution_count": null,
      "outputs": []
    },
    {
      "cell_type": "code",
      "source": [
        "all_results"
      ],
      "metadata": {
        "id": "RtGOwprnmrVp"
      },
      "execution_count": null,
      "outputs": []
    },
    {
      "cell_type": "code",
      "source": [
        "corr_df = pd.DataFrame(all_results,columns = ['87d714366', '9f80f3f77', '8b87a7a83'])"
      ],
      "metadata": {
        "id": "JTeNeQGjmHVT"
      },
      "execution_count": null,
      "outputs": []
    },
    {
      "cell_type": "code",
      "source": [
        "sns.boxplot(data = corr_df)\n",
        "plt.grid()\n",
        "plt.title('Spearman Correlation across Replicates')\n",
        "plt.ylim([-0.4,1.3])\n",
        "plt.savefig('correlations.png',bbox_inches='tight',dpi=300)\n"
      ],
      "metadata": {
        "id": "kf07Tf6Pke4E",
        "colab": {
          "base_uri": "https://localhost:8080/",
          "height": 281
        },
        "outputId": "012a1fcb-cf7c-424e-8651-6e94687cccf7"
      },
      "execution_count": null,
      "outputs": [
        {
          "output_type": "display_data",
          "data": {
            "text/plain": [
              "<Figure size 432x288 with 1 Axes>"
            ],
            "image/png": "[encoded data removed]"
          },
          "metadata": {
            "needs_background": "light"
          }
        }
      ]
    }
  ]
}